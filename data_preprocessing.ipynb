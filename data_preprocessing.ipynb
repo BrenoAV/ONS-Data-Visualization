{
 "cells": [
  {
   "cell_type": "code",
   "execution_count": 1,
   "metadata": {},
   "outputs": [],
   "source": [
    "import os\n",
    "import glob\n",
    "import pandas as pd\n",
    "import numpy as np\n",
    "import matplotlib.pyplot as plt\n",
    "import logging\n",
    "from pathlib import Path\n",
    "import datetime\n",
    "\n",
    "logging.basicConfig(format=\"%(asctime)s - %(name)s - %(levelname)s - %(message)s\", \n",
    "                    level=logging.INFO)"
   ]
  },
  {
   "cell_type": "code",
   "execution_count": 2,
   "metadata": {},
   "outputs": [],
   "source": [
    "OUTPUT_DATA = Path(\"data\")\n",
    "OUTPUT_PATH = Path(\"outputs\")"
   ]
  },
  {
   "cell_type": "markdown",
   "metadata": {},
   "source": [
    "# Reading DataFrame"
   ]
  },
  {
   "cell_type": "code",
   "execution_count": 3,
   "metadata": {},
   "outputs": [
    {
     "name": "stderr",
     "output_type": "stream",
     "text": [
      "2023-05-17 11:54:28,656 - root - INFO - Loading DataFrame from the file data/CARGA_ENERGIA_2012.csv...\n",
      "2023-05-17 11:54:28,659 - root - INFO - Loading DataFrame from the file data/CARGA_ENERGIA_2021.csv...\n",
      "2023-05-17 11:54:28,662 - root - INFO - Loading DataFrame from the file data/CARGA_ENERGIA_2000.csv...\n",
      "2023-05-17 11:54:28,664 - root - INFO - Loading DataFrame from the file data/CARGA_ENERGIA_2002.csv...\n",
      "2023-05-17 11:54:28,666 - root - INFO - Loading DataFrame from the file data/CARGA_ENERGIA_2017.csv...\n",
      "2023-05-17 11:54:28,668 - root - INFO - Loading DataFrame from the file data/CARGA_ENERGIA_2011.csv...\n",
      "2023-05-17 11:54:28,670 - root - INFO - Loading DataFrame from the file data/CARGA_ENERGIA_2023.csv...\n",
      "2023-05-17 11:54:28,672 - root - INFO - Loading DataFrame from the file data/CARGA_ENERGIA_2006.csv...\n",
      "2023-05-17 11:54:28,674 - root - INFO - Loading DataFrame from the file data/CARGA_ENERGIA_2003.csv...\n",
      "2023-05-17 11:54:28,675 - root - INFO - Loading DataFrame from the file data/CARGA_ENERGIA_2015.csv...\n",
      "2023-05-17 11:54:28,677 - root - INFO - Loading DataFrame from the file data/CARGA_ENERGIA_2019.csv...\n",
      "2023-05-17 11:54:28,679 - root - INFO - Loading DataFrame from the file data/CARGA_ENERGIA_2004.csv...\n",
      "2023-05-17 11:54:28,680 - root - INFO - Loading DataFrame from the file data/CARGA_ENERGIA_2013.csv...\n",
      "2023-05-17 11:54:28,682 - root - INFO - Loading DataFrame from the file data/CARGA_ENERGIA_2001.csv...\n",
      "2023-05-17 11:54:28,684 - root - INFO - Loading DataFrame from the file data/CARGA_ENERGIA_2022.csv...\n",
      "2023-05-17 11:54:28,686 - root - INFO - Loading DataFrame from the file data/CARGA_ENERGIA_2008.csv...\n",
      "2023-05-17 11:54:28,688 - root - INFO - Loading DataFrame from the file data/CARGA_ENERGIA_2005.csv...\n",
      "2023-05-17 11:54:28,689 - root - INFO - Loading DataFrame from the file data/CARGA_ENERGIA_2014.csv...\n",
      "2023-05-17 11:54:28,691 - root - INFO - Loading DataFrame from the file data/CARGA_ENERGIA_2010.csv...\n",
      "2023-05-17 11:54:28,692 - root - INFO - Loading DataFrame from the file data/CARGA_ENERGIA_2018.csv...\n",
      "2023-05-17 11:54:28,694 - root - INFO - Loading DataFrame from the file data/CARGA_ENERGIA_2016.csv...\n",
      "2023-05-17 11:54:28,695 - root - INFO - Loading DataFrame from the file data/CARGA_ENERGIA_2009.csv...\n",
      "2023-05-17 11:54:28,697 - root - INFO - Loading DataFrame from the file data/CARGA_ENERGIA_2007.csv...\n",
      "2023-05-17 11:54:28,698 - root - INFO - Loading DataFrame from the file data/CARGA_ENERGIA_2020.csv...\n"
     ]
    }
   ],
   "source": [
    "dfs_load_energy = []\n",
    "for path_file_csv in glob.glob(os.path.join(OUTPUT_DATA, \"*.csv\")):\n",
    "    logging.info(f\"Loading DataFrame from the file {path_file_csv}...\")\n",
    "    dfs_load_energy.append(pd.read_csv(path_file_csv, sep=\";\", encoding=\"utf-8\"))"
   ]
  },
  {
   "cell_type": "code",
   "execution_count": 4,
   "metadata": {},
   "outputs": [],
   "source": [
    "df_load_energy = pd.concat(dfs_load_energy, ignore_index=True)"
   ]
  },
  {
   "cell_type": "code",
   "execution_count": 5,
   "metadata": {},
   "outputs": [],
   "source": [
    "from utils.dataframe_tools import create_pivot_table_load_energy\n",
    "\n",
    "df_load_energy_one_column = create_pivot_table_load_energy(df_load_energy)\n",
    "df_load_energy_one_column.index = pd.DatetimeIndex(df_load_energy_one_column.index)\n",
    "df_load_energy_one_column.sort_index(ascending=True, inplace=True)"
   ]
  },
  {
   "cell_type": "markdown",
   "metadata": {},
   "source": [
    "## Checking data range if is correct"
   ]
  },
  {
   "cell_type": "code",
   "execution_count": 6,
   "metadata": {},
   "outputs": [],
   "source": [
    "from utils.dataframe_tools import check_date_range_energy_load"
   ]
  },
  {
   "cell_type": "code",
   "execution_count": 7,
   "metadata": {},
   "outputs": [
    {
     "data": {
      "text/plain": [
       "(Timestamp('2000-01-01 00:00:00'), Timestamp('2023-05-14 00:00:00'))"
      ]
     },
     "execution_count": 7,
     "metadata": {},
     "output_type": "execute_result"
    }
   ],
   "source": [
    "start_date = df_load_energy_one_column.index.min()\n",
    "end_date = df_load_energy_one_column.index.max()\n",
    "start_date, end_date"
   ]
  },
  {
   "cell_type": "code",
   "execution_count": 8,
   "metadata": {
    "scrolled": true
   },
   "outputs": [
    {
     "ename": "ValueError",
     "evalue": "Failed to compare date ranges. 8523 != 8535 ",
     "output_type": "error",
     "traceback": [
      "\u001b[0;31m---------------------------------------------------------------------------\u001b[0m",
      "\u001b[0;31mValueError\u001b[0m                                Traceback (most recent call last)",
      "File \u001b[0;32m~/GitHub/Dash-Visualization-Demo/utils/dataframe_tools.py:189\u001b[0m, in \u001b[0;36mcheck_date_range_energy_load\u001b[0;34m(df_datetime_index, start_date, end_date)\u001b[0m\n\u001b[1;32m    188\u001b[0m \u001b[38;5;28;01mtry\u001b[39;00m:\n\u001b[0;32m--> 189\u001b[0m     \u001b[38;5;28;01mreturn\u001b[39;00m np\u001b[38;5;241m.\u001b[39mall((\u001b[43mdf_datetime_index\u001b[49m\u001b[43m \u001b[49m\u001b[38;5;241;43m==\u001b[39;49m\u001b[43m \u001b[49m\u001b[43mdate_range\u001b[49m) \u001b[38;5;241m==\u001b[39m \u001b[38;5;28;01mTrue\u001b[39;00m)\n\u001b[1;32m    190\u001b[0m \u001b[38;5;28;01mexcept\u001b[39;00m \u001b[38;5;167;01mValueError\u001b[39;00m \u001b[38;5;28;01mas\u001b[39;00m e:\n",
      "File \u001b[0;32m~/GitHub/Dash-Visualization-Demo/venv/lib/python3.11/site-packages/pandas/core/ops/common.py:81\u001b[0m, in \u001b[0;36m_unpack_zerodim_and_defer.<locals>.new_method\u001b[0;34m(self, other)\u001b[0m\n\u001b[1;32m     79\u001b[0m other \u001b[38;5;241m=\u001b[39m item_from_zerodim(other)\n\u001b[0;32m---> 81\u001b[0m \u001b[38;5;28;01mreturn\u001b[39;00m \u001b[43mmethod\u001b[49m\u001b[43m(\u001b[49m\u001b[38;5;28;43mself\u001b[39;49m\u001b[43m,\u001b[49m\u001b[43m \u001b[49m\u001b[43mother\u001b[49m\u001b[43m)\u001b[49m\n",
      "File \u001b[0;32m~/GitHub/Dash-Visualization-Demo/venv/lib/python3.11/site-packages/pandas/core/arraylike.py:40\u001b[0m, in \u001b[0;36mOpsMixin.__eq__\u001b[0;34m(self, other)\u001b[0m\n\u001b[1;32m     38\u001b[0m \u001b[38;5;129m@unpack_zerodim_and_defer\u001b[39m(\u001b[38;5;124m\"\u001b[39m\u001b[38;5;124m__eq__\u001b[39m\u001b[38;5;124m\"\u001b[39m)\n\u001b[1;32m     39\u001b[0m \u001b[38;5;28;01mdef\u001b[39;00m \u001b[38;5;21m__eq__\u001b[39m(\u001b[38;5;28mself\u001b[39m, other):\n\u001b[0;32m---> 40\u001b[0m     \u001b[38;5;28;01mreturn\u001b[39;00m \u001b[38;5;28;43mself\u001b[39;49m\u001b[38;5;241;43m.\u001b[39;49m\u001b[43m_cmp_method\u001b[49m\u001b[43m(\u001b[49m\u001b[43mother\u001b[49m\u001b[43m,\u001b[49m\u001b[43m \u001b[49m\u001b[43moperator\u001b[49m\u001b[38;5;241;43m.\u001b[39;49m\u001b[43meq\u001b[49m\u001b[43m)\u001b[49m\n",
      "File \u001b[0;32m~/GitHub/Dash-Visualization-Demo/venv/lib/python3.11/site-packages/pandas/core/indexes/base.py:6758\u001b[0m, in \u001b[0;36mIndex._cmp_method\u001b[0;34m(self, other, op)\u001b[0m\n\u001b[1;32m   6755\u001b[0m \u001b[38;5;28;01mif\u001b[39;00m \u001b[38;5;28misinstance\u001b[39m(other, (np\u001b[38;5;241m.\u001b[39mndarray, Index, ABCSeries, ExtensionArray)) \u001b[38;5;129;01mand\u001b[39;00m \u001b[38;5;28mlen\u001b[39m(\n\u001b[1;32m   6756\u001b[0m     \u001b[38;5;28mself\u001b[39m\n\u001b[1;32m   6757\u001b[0m ) \u001b[38;5;241m!=\u001b[39m \u001b[38;5;28mlen\u001b[39m(other):\n\u001b[0;32m-> 6758\u001b[0m     \u001b[38;5;28;01mraise\u001b[39;00m \u001b[38;5;167;01mValueError\u001b[39;00m(\u001b[38;5;124m\"\u001b[39m\u001b[38;5;124mLengths must match to compare\u001b[39m\u001b[38;5;124m\"\u001b[39m)\n\u001b[1;32m   6760\u001b[0m \u001b[38;5;28;01mif\u001b[39;00m \u001b[38;5;129;01mnot\u001b[39;00m \u001b[38;5;28misinstance\u001b[39m(other, ABCMultiIndex):\n",
      "\u001b[0;31mValueError\u001b[0m: Lengths must match to compare",
      "\nThe above exception was the direct cause of the following exception:\n",
      "\u001b[0;31mValueError\u001b[0m                                Traceback (most recent call last)",
      "Cell \u001b[0;32mIn[8], line 1\u001b[0m\n\u001b[0;32m----> 1\u001b[0m \u001b[43mcheck_date_range_energy_load\u001b[49m\u001b[43m(\u001b[49m\u001b[43mdf_load_energy_one_column\u001b[49m\u001b[38;5;241;43m.\u001b[39;49m\u001b[43mindex\u001b[49m\u001b[43m,\u001b[49m\u001b[43m \u001b[49m\u001b[43mstart_date\u001b[49m\u001b[43m,\u001b[49m\u001b[43m \u001b[49m\u001b[43mend_date\u001b[49m\u001b[43m)\u001b[49m\n",
      "File \u001b[0;32m~/GitHub/Dash-Visualization-Demo/utils/dataframe_tools.py:191\u001b[0m, in \u001b[0;36mcheck_date_range_energy_load\u001b[0;34m(df_datetime_index, start_date, end_date)\u001b[0m\n\u001b[1;32m    189\u001b[0m     \u001b[38;5;28;01mreturn\u001b[39;00m np\u001b[38;5;241m.\u001b[39mall((df_datetime_index \u001b[38;5;241m==\u001b[39m date_range) \u001b[38;5;241m==\u001b[39m \u001b[38;5;28;01mTrue\u001b[39;00m)\n\u001b[1;32m    190\u001b[0m \u001b[38;5;28;01mexcept\u001b[39;00m \u001b[38;5;167;01mValueError\u001b[39;00m \u001b[38;5;28;01mas\u001b[39;00m e:\n\u001b[0;32m--> 191\u001b[0m     \u001b[38;5;28;01mraise\u001b[39;00m \u001b[38;5;167;01mValueError\u001b[39;00m(\n\u001b[1;32m    192\u001b[0m         \u001b[38;5;124mf\u001b[39m\u001b[38;5;124m\"\u001b[39m\u001b[38;5;124mFailed to compare date ranges. \u001b[39m\u001b[38;5;132;01m{\u001b[39;00m\u001b[38;5;28mlen\u001b[39m(df_datetime_index)\u001b[38;5;132;01m}\u001b[39;00m\u001b[38;5;124m != \u001b[39m\u001b[38;5;132;01m{\u001b[39;00m\u001b[38;5;28mlen\u001b[39m(date_range)\u001b[38;5;132;01m}\u001b[39;00m\u001b[38;5;124m \u001b[39m\u001b[38;5;124m\"\u001b[39m\n\u001b[1;32m    193\u001b[0m     ) \u001b[38;5;28;01mfrom\u001b[39;00m \u001b[38;5;21;01me\u001b[39;00m\n",
      "\u001b[0;31mValueError\u001b[0m: Failed to compare date ranges. 8523 != 8535 "
     ]
    }
   ],
   "source": [
    "check_date_range_energy_load(df_load_energy_one_column.index, start_date, end_date)"
   ]
  },
  {
   "cell_type": "markdown",
   "metadata": {},
   "source": [
    "There're some data missing on the original datasets (https://dados.ons.org.br/dataset/carga-energia), I'll fill with NaN values and substitute their after."
   ]
  },
  {
   "cell_type": "code",
   "execution_count": 9,
   "metadata": {},
   "outputs": [],
   "source": [
    "idx = pd.date_range(start_date, end_date, freq=\"D\")\n",
    "df_load_energy_one_column = df_load_energy_one_column.reindex(idx, fill_value=np.nan) \n",
    "df_load_energy_one_column.index.name = \"din_instante\""
   ]
  },
  {
   "cell_type": "markdown",
   "metadata": {},
   "source": [
    "# Preprocessing"
   ]
  },
  {
   "cell_type": "code",
   "execution_count": 10,
   "metadata": {},
   "outputs": [
    {
     "name": "stderr",
     "output_type": "stream",
     "text": [
      "2023-05-17 11:54:36,336 - root - INFO - Number of NAs values = 48\n",
      "2023-05-17 11:54:36,337 - root - INFO - Replacing NAs values with the next value...\n",
      "2023-05-17 11:54:36,338 - root - INFO - Number of negative values in dataframe = 0\n",
      "2023-05-17 11:54:36,340 - root - INFO - Number of zero values in dataframe = 0\n",
      "2023-05-17 11:54:36,343 - root - INFO - DataFrame cleaned!\n"
     ]
    }
   ],
   "source": [
    "from utils.dataframe_tools import data_clean, replace_zero_negative\n",
    "\n",
    "df_load_energy_one_column = data_clean(df_load_energy_one_column)"
   ]
  },
  {
   "cell_type": "code",
   "execution_count": 11,
   "metadata": {},
   "outputs": [],
   "source": [
    "df_load_energy_one_column.index = pd.to_datetime(df_load_energy_one_column.index, format=\"mixed\", yearfirst=True)"
   ]
  },
  {
   "cell_type": "markdown",
   "metadata": {},
   "source": [
    "## Transforming multi index columns into one column name with the Region names"
   ]
  },
  {
   "cell_type": "code",
   "execution_count": 12,
   "metadata": {},
   "outputs": [],
   "source": [
    "df_load_energy_one_column.columns = df_load_energy_one_column.columns.droplevel(list(range(0, 2)))"
   ]
  },
  {
   "cell_type": "code",
   "execution_count": 13,
   "metadata": {},
   "outputs": [
    {
     "data": {
      "text/html": [
       "<div>\n",
       "<style scoped>\n",
       "    .dataframe tbody tr th:only-of-type {\n",
       "        vertical-align: middle;\n",
       "    }\n",
       "\n",
       "    .dataframe tbody tr th {\n",
       "        vertical-align: top;\n",
       "    }\n",
       "\n",
       "    .dataframe thead th {\n",
       "        text-align: right;\n",
       "    }\n",
       "</style>\n",
       "<table border=\"1\" class=\"dataframe\">\n",
       "  <thead>\n",
       "    <tr style=\"text-align: right;\">\n",
       "      <th>nom_subsistema</th>\n",
       "      <th>Norte</th>\n",
       "      <th>Nordeste</th>\n",
       "      <th>Sul</th>\n",
       "      <th>Sudeste/Centro-Oeste</th>\n",
       "    </tr>\n",
       "    <tr>\n",
       "      <th>din_instante</th>\n",
       "      <th></th>\n",
       "      <th></th>\n",
       "      <th></th>\n",
       "      <th></th>\n",
       "    </tr>\n",
       "  </thead>\n",
       "  <tbody>\n",
       "    <tr>\n",
       "      <th>2000-01-01</th>\n",
       "      <td>2243.512500</td>\n",
       "      <td>4646.370833</td>\n",
       "      <td>4800.650000</td>\n",
       "      <td>19045.995833</td>\n",
       "    </tr>\n",
       "    <tr>\n",
       "      <th>2000-01-02</th>\n",
       "      <td>2259.808333</td>\n",
       "      <td>4895.720833</td>\n",
       "      <td>4899.800000</td>\n",
       "      <td>19398.025000</td>\n",
       "    </tr>\n",
       "    <tr>\n",
       "      <th>2000-01-03</th>\n",
       "      <td>2407.429167</td>\n",
       "      <td>5736.008333</td>\n",
       "      <td>6261.554167</td>\n",
       "      <td>23061.745833</td>\n",
       "    </tr>\n",
       "    <tr>\n",
       "      <th>2000-01-04</th>\n",
       "      <td>2404.216667</td>\n",
       "      <td>5783.770833</td>\n",
       "      <td>6733.741667</td>\n",
       "      <td>24228.241667</td>\n",
       "    </tr>\n",
       "    <tr>\n",
       "      <th>2000-01-05</th>\n",
       "      <td>2439.650000</td>\n",
       "      <td>5753.120833</td>\n",
       "      <td>6961.170833</td>\n",
       "      <td>24807.937500</td>\n",
       "    </tr>\n",
       "  </tbody>\n",
       "</table>\n",
       "</div>"
      ],
      "text/plain": [
       "nom_subsistema        Norte     Nordeste          Sul  Sudeste/Centro-Oeste\n",
       "din_instante                                                               \n",
       "2000-01-01      2243.512500  4646.370833  4800.650000          19045.995833\n",
       "2000-01-02      2259.808333  4895.720833  4899.800000          19398.025000\n",
       "2000-01-03      2407.429167  5736.008333  6261.554167          23061.745833\n",
       "2000-01-04      2404.216667  5783.770833  6733.741667          24228.241667\n",
       "2000-01-05      2439.650000  5753.120833  6961.170833          24807.937500"
      ]
     },
     "execution_count": 13,
     "metadata": {},
     "output_type": "execute_result"
    }
   ],
   "source": [
    "df_load_energy_one_column.head()"
   ]
  },
  {
   "cell_type": "markdown",
   "metadata": {},
   "source": [
    "## Creating an output path to save the dataframe after preprocessing"
   ]
  },
  {
   "cell_type": "code",
   "execution_count": 14,
   "metadata": {},
   "outputs": [],
   "source": [
    "from utils.dataframe_tools import save_csv"
   ]
  },
  {
   "cell_type": "code",
   "execution_count": 15,
   "metadata": {},
   "outputs": [
    {
     "name": "stderr",
     "output_type": "stream",
     "text": [
      "2023-05-17 11:54:40,851 - root - INFO - Dataframe outputs/energy_load_curve_brazil.csv saved!\n"
     ]
    }
   ],
   "source": [
    "save_csv(df_load_energy_one_column, path_to_save=OUTPUT_PATH, filename=f\"energy_load_curve_brazil\")"
   ]
  },
  {
   "cell_type": "code",
   "execution_count": null,
   "metadata": {},
   "outputs": [],
   "source": []
  }
 ],
 "metadata": {
  "kernelspec": {
   "display_name": "Python 3 (ipykernel)",
   "language": "python",
   "name": "python3"
  },
  "language_info": {
   "codemirror_mode": {
    "name": "ipython",
    "version": 3
   },
   "file_extension": ".py",
   "mimetype": "text/x-python",
   "name": "python",
   "nbconvert_exporter": "python",
   "pygments_lexer": "ipython3",
   "version": "3.11.2"
  }
 },
 "nbformat": 4,
 "nbformat_minor": 4
}
